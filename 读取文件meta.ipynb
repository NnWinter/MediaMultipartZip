{
 "cells": [
  {
   "cell_type": "code",
   "execution_count": null,
   "metadata": {
    "dotnet_interactive": {
     "language": "csharp"
    },
    "polyglot_notebook": {
     "kernelName": "csharp"
    },
    "vscode": {
     "languageId": "polyglot-notebook"
    }
   },
   "outputs": [],
   "source": [
    "#r \"nuget: MediaToolkit\"\n",
    "#r \"nuget: MetadataExtractor\"\n",
    "using MediaToolkit.Model;\n",
    "using MediaToolkit;\n",
    "using MetadataExtractor;\n",
    "using System.IO;\n",
    "using Newtonsoft.Json;"
   ]
  },
  {
   "cell_type": "code",
   "execution_count": null,
   "metadata": {
    "dotnet_interactive": {
     "language": "csharp"
    },
    "polyglot_notebook": {
     "kernelName": "csharp"
    },
    "vscode": {
     "languageId": "polyglot-notebook"
    }
   },
   "outputs": [],
   "source": [
    "struct FileGroups\n",
    "{\n",
    "    /// <summary>\n",
    "    /// 压缩包的ID\n",
    "    /// </summary>\n",
    "    public int GroupId { get; init; }\n",
    "    /// <summary>\n",
    "    /// 压缩包的总大小(含分卷)\n",
    "    /// </summary>\n",
    "    public long Length { get; init; }\n",
    "    /// <summary>\n",
    "    /// 压缩包使用的分卷数\n",
    "    /// </summary>\n",
    "    public long VolumeCount { get; init; }\n",
    "    /// <summary>\n",
    "    /// 压缩包是单独的(未分卷)\n",
    "    /// </summary>\n",
    "    public bool IsSingle { get; init; }\n",
    "\n",
    "    /// <summary>\n",
    "    /// 文件的元数据\n",
    "    /// </summary>\n",
    "    public struct FileMeta\n",
    "    {\n",
    "        public string FullName { get; init; }\n",
    "        public long Length { get; init; }\n",
    "        public DateTime WriteTime { get; init; }\n",
    "        public DateTime CreationTime { get; init; }\n",
    "        public DateTime AccessTime { get; init; }\n",
    "        /// <summary>\n",
    "        /// MetadataExtractor 读取的图片元数据\n",
    "        /// </summary>\n",
    "        public Dictionary<string, string>? ImageExif { get; init; }\n",
    "        /// <summary>\n",
    "        /// FFMPEG 读取的视频元数据\n",
    "        /// </summary>\n",
    "        public Metadata? VideoMeta { get; init; }\n",
    "        public FileMeta(FileInfo fileinfo)\n",
    "        {\n",
    "            // 读取基本数据\n",
    "            FullName = fileinfo.FullName;\n",
    "            Length = fileinfo.Length;\n",
    "            WriteTime = fileinfo.LastWriteTime;\n",
    "            CreationTime = fileinfo.CreationTime;\n",
    "            AccessTime = fileinfo.LastAccessTime;\n",
    "\n",
    "            // 读取图片元数据\n",
    "            ImageExif = GetImageExif(fileinfo);\n",
    "            // 读取视频元数据\n",
    "            VideoMeta = GetVideoMeta(fileinfo);\n",
    "        }\n",
    "        /// <summary>\n",
    "        /// 读取图片元数据\n",
    "        /// </summary>\n",
    "        /// <param name=\"fileinfo\"></param>\n",
    "        /// <returns></returns>\n",
    "        private static Dictionary<string, string>? GetImageExif(FileInfo fileinfo)\n",
    "        {\n",
    "            var exifData = new Dictionary<string, string>();\n",
    "\n",
    "            try\n",
    "            {\n",
    "                var directories = ImageMetadataReader.ReadMetadata(fileinfo.FullName);\n",
    "\n",
    "                foreach (var directory in directories)\n",
    "                {\n",
    "                    foreach (var tag in directory.Tags)\n",
    "                    {\n",
    "                        if (tag.Description == null) continue;\n",
    "                        exifData[tag.Name] = tag.Description;\n",
    "                    }\n",
    "                }\n",
    "            }\n",
    "            catch { return null; }\n",
    "\n",
    "            return exifData;\n",
    "        }\n",
    "        /// <summary>\n",
    "        /// 读取视频元数据\n",
    "        /// </summary>\n",
    "        /// <param name=\"fileinfo\"></param>\n",
    "        /// <returns></returns>\n",
    "        private static Metadata? GetVideoMeta(FileInfo fileinfo)\n",
    "        {\n",
    "            try\n",
    "            {\n",
    "                var mediaFile = new MediaFile { Filename = fileinfo.FullName };\n",
    "\n",
    "                using (var engine = new Engine())\n",
    "                {\n",
    "                    engine.GetMetadata(mediaFile);\n",
    "                }\n",
    "                return mediaFile.Metadata;\n",
    "            }catch { return null; }\n",
    "        }\n",
    "    }\n",
    "}"
   ]
  },
  {
   "cell_type": "code",
   "execution_count": null,
   "metadata": {
    "dotnet_interactive": {
     "language": "csharp"
    },
    "polyglot_notebook": {
     "kernelName": "csharp"
    },
    "vscode": {
     "languageId": "polyglot-notebook"
    }
   },
   "outputs": [],
   "source": [
    "var filemeta = new FileGroups.FileMeta(new FileInfo(@\"I:\\Camera\\_MG_4239.CR3\"));"
   ]
  },
  {
   "cell_type": "code",
   "execution_count": null,
   "metadata": {
    "dotnet_interactive": {
     "language": "csharp"
    },
    "polyglot_notebook": {
     "kernelName": "csharp"
    },
    "vscode": {
     "languageId": "polyglot-notebook"
    }
   },
   "outputs": [],
   "source": [
    "filemeta"
   ]
  },
  {
   "cell_type": "code",
   "execution_count": null,
   "metadata": {
    "dotnet_interactive": {
     "language": "csharp"
    },
    "polyglot_notebook": {
     "kernelName": "csharp"
    },
    "vscode": {
     "languageId": "polyglot-notebook"
    }
   },
   "outputs": [],
   "source": [
    "var str = JsonConvert.SerializeObject(filemeta, Formatting.Indented);\n",
    "str"
   ]
  }
 ],
 "metadata": {
  "language_info": {
   "name": "python"
  }
 },
 "nbformat": 4,
 "nbformat_minor": 2
}
