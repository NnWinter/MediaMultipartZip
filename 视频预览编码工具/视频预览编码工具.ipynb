{
 "cells": [
  {
   "cell_type": "code",
   "execution_count": null,
   "metadata": {
    "dotnet_interactive": {
     "language": "csharp"
    },
    "polyglot_notebook": {
     "kernelName": "csharp"
    },
    "vscode": {
     "languageId": "polyglot-notebook"
    }
   },
   "outputs": [],
   "source": [
    "using System.IO;\n",
    "using System.Diagnostics;\n",
    "using Microsoft.DotNet.Interactive;\n",
    "\n",
    "const string ffmpeg = @\"ffmpeg.exe\";\n",
    "const string outputDir = @\"I:\\Temp\\视频预览编码工具\";"
   ]
  },
  {
   "cell_type": "code",
   "execution_count": null,
   "metadata": {
    "dotnet_interactive": {
     "language": "csharp"
    },
    "polyglot_notebook": {
     "kernelName": "csharp"
    },
    "vscode": {
     "languageId": "polyglot-notebook"
    }
   },
   "outputs": [],
   "source": [
    "var dir = new DirectoryInfo(Task.Run(async() => await Kernel.GetInputAsync(\"视频所在目录\")).Result.Replace(\"\\\"\", \"\"));\n",
    "FileInfo[] files = dir.GetFiles(\"*.mp4\", SearchOption.AllDirectories)\n",
    "    .Union(dir.GetFiles(\"*.mkv\", SearchOption.AllDirectories))\n",
    "    .Union(dir.GetFiles(\"*.avi\", SearchOption.AllDirectories))\n",
    "    .Union(dir.GetFiles(\"*.flv\", SearchOption.AllDirectories))\n",
    "    .Union(dir.GetFiles(\"*.wmv\", SearchOption.AllDirectories))\n",
    "    .Union(dir.GetFiles(\"*.mov\", SearchOption.AllDirectories))\n",
    "    .Union(dir.GetFiles(\"*.rmvb\", SearchOption.AllDirectories))\n",
    "    .Union(dir.GetFiles(\"*.ts\", SearchOption.AllDirectories)).ToArray();\n",
    "var total = files.Length;\n",
    "$\"找到了 {files.Length} 个视频文件，共 {files.Sum(x=>x.Length)/(1024*1024*1024)}GB\".Display();"
   ]
  },
  {
   "cell_type": "code",
   "execution_count": null,
   "metadata": {
    "dotnet_interactive": {
     "language": "csharp"
    },
    "polyglot_notebook": {
     "kernelName": "csharp"
    },
    "vscode": {
     "languageId": "polyglot-notebook"
    }
   },
   "outputs": [],
   "source": [
    "var count = 1;\n",
    "foreach (var file in files)\n",
    "{\n",
    "    Console.WriteLine($\"正在处理第 {count} / {total} 个\");\n",
    "    string outputFile = Path.Combine(outputDir, Path.GetFileNameWithoutExtension(file.FullName) + \".mp4\");\n",
    "    string arguments = $\"-i \\\"{file}\\\" -vf \\\"scale=480:320\\\" -r 10 -c:v hevc_nvenc -b:v 200k -ac 6 \\\"{outputFile}\\\"\";\n",
    "\n",
    "    ProcessStartInfo startInfo = new ProcessStartInfo(ffmpeg, arguments)\n",
    "    {\n",
    "        UseShellExecute = true,\n",
    "        CreateNoWindow = false,\n",
    "        WindowStyle = ProcessWindowStyle.Minimized // 设置窗口为最小化\n",
    "    };\n",
    "\n",
    "    using (Process process = Process.Start(startInfo))\n",
    "    {\n",
    "        process.WaitForExit();\n",
    "    }\n",
    "    count++;\n",
    "}"
   ]
  }
 ],
 "metadata": {
  "language_info": {
   "name": "python"
  }
 },
 "nbformat": 4,
 "nbformat_minor": 2
}
